{
 "cells": [
  {
   "cell_type": "markdown",
   "metadata": {},
   "source": [
    "# Midterm Practice Without Answers"
   ]
  },
  {
   "cell_type": "markdown",
   "metadata": {
    "pycharm": {
     "name": "#%% md\n"
    }
   },
   "source": [
    "## <p style=\"text-align: right;\"> &#9989; Danielle Armstrong</p>"
   ]
  },
  {
   "cell_type": "markdown",
   "metadata": {
    "pycharm": {
     "name": "#%% md\n"
    }
   },
   "source": [
    "# CMSE 202 Midterm (Section  XXX - XXXXXXX) (31 points total)\n",
    "\n",
    "The goal of this midterm is to give you the opportunity to test out some of the skills that you've developed thus far this semester. In particular, you'll practice setting up a GitHub repository, committing and pushing repository changes, downloading data with command line tools, performing some data analysis, possibly using a new Python package, and writing a python class. You should find that you have all of the skills necessary to complete this exam with even just eight weeks of CMSE 202 under your belt!\n",
    "\n",
    "You are encouraged to look through the entire exam before you get started so that you can appropriately budget your time and understand the broad goals of the exam. Once you've read through it, try doing Parts 1 and 2 first so that you have your repository set up and you download all necessary data files as they will be necessary to complete the assigned tasks. Let your instructor know right away if you have problems downloading the data!\n",
    "\n",
    "The exam is set up so that even if you get stuck on one part there are opportunities to get points on the other parts, so consider jumping ahead if you feel like you aren't making progress and then come back later if you have time.\n",
    "\n",
    "**Important note about using online resources**: This exam is \"open internet\". That means that you can look up documentation, google how to accomplish certain Python tasks, etc. Being able to effectively use the internet for computational modeling and data science is a very important skill, so we want to make sure you have the opportunity to exercise that skill. **However**: The use of any person-to-person communication software is absolutely not acceptable. If you are seen accessing your email, using a chat program (e.g. Slack), or any sort of collaborative cloud storage or document software (e.g. Google Documents), you will be at risk for receiving a zero on the exam.\n",
    "\n",
    "**Keep your eyes on your screen!** Unfortunately, there isn't enough space in the room for everyone to sit at their own table so please do your best to keep your eyes on your own screen. This exam is designed to give *you* the opportunity to show the instructor what you can do and you should hold yourself accountable for maintaining a high level of academic integrity. If any of the instructors observe suspicious behavior, you will, again, risk receiving a zero."
   ]
  },
  {
   "cell_type": "markdown",
   "metadata": {
    "pycharm": {
     "name": "#%% md\n"
    }
   },
   "source": [
    "---\n",
    "## Part 0: Academic integrity statement\n",
    "\n",
    "Read the following statement and edit the markdown text to put your name in the statement. This is your commitment to doing your own authentic work on this exam."
   ]
  },
  {
   "cell_type": "markdown",
   "metadata": {
    "pycharm": {
     "name": "#%% md\n"
    }
   },
   "source": [
    "> I, **Danielle Armstrong**, affirm that this exam represents my own authetic work, without the use of any unpermitted aids or resources or person-to-person communication. I understand that this exam an an opportunity to showcase my own progress in developing and improving my computational skills and have done my best to demonstrate those skills."
   ]
  },
  {
   "cell_type": "markdown",
   "metadata": {
    "pycharm": {
     "name": "#%% md\n"
    }
   },
   "source": [
    "---\n",
    "## Part 1: Add to your Git repository to track your progress on your exam (2 points)\n",
    "\n",
    "Before you get to far along in the exam, you're going to add it to the `cmse202-xxx-turnin` repository you created in class so that you can track your progress on the exam and preserve the final version that you turn in. In order to do this you need to\n",
    "\n",
    "**&#9989; Do the following**:\n",
    "\n",
    "1. Navigate to your `cmse202-xxx-turnin` repository and create a new directory called `midterm`.\n",
    "2. Move this notebook into that **new directory** in your repository, then **add it and commit it to your repository**.\n",
    "1. Finally, to test that everything is working, \"git push\" the file so that it ends up in your GitHub repository.\n",
    "\n",
    "**Important**: Double check you've added your Professor and your TA as collaborators to your \"turnin\" respository (you should have done this in the previous homework assignment).\n",
    "\n",
    "**Also important**: Make sure that the version of this notebook that you are working on is the same one that you just added to your repository! If you are working on a different copy of the noteobok, **none of your changes will be tracked**!\n",
    "\n",
    "If everything went as intended, the file should now show up on your GitHub account in the \"`cmse202-xxx-turnin`\" repository inside the `midterm` directory that you just created.  Periodically, **you'll be asked to commit your changes to the repository and push them to the remote GitHub location**. Of course, you can always commit your changes more often than that, if you wish.  It can be good to get into a habit of committing your changes any time you make a significant modification, or when you stop working on the project for a bit."
   ]
  },
  {
   "cell_type": "markdown",
   "metadata": {
    "pycharm": {
     "name": "#%% md\n"
    }
   },
   "source": [
    "&#9989; **Question 1.1 (2 point)**: **Do this**: Before you move on, put the command that your instructor should run to clone your repository in the markdown cell below. Also make sure that you created the directory and pushed your change to GitHub as explained above."
   ]
  },
  {
   "cell_type": "markdown",
   "metadata": {
    "pycharm": {
     "name": "#%% md\n"
    }
   },
   "source": [
    "``` bash\n",
    "git clone midterm\n",
    "\n",
    "```"
   ]
  },
  {
   "cell_type": "markdown",
   "metadata": {
    "pycharm": {
     "name": "#%% md\n"
    }
   },
   "source": [
    "---\n",
    "## Part 2: Downloading and analyzing unfamiliar data (12 points)"
   ]
  },
  {
   "cell_type": "markdown",
   "metadata": {
    "pycharm": {
     "name": "#%% md\n"
    }
   },
   "source": [
    "In this part of the exam, you will use load an visualize a dataset you have not used before. \n",
    "\n",
    "In particular, you will be working with a dataset on international health care spending. The data is associated with a BuzzFeed article at https://www.buzzfeednews.com/article/peteraldhous/american-health-care . Interestingly, BuzzFeed maintains GitHub repositories for the data they use to make plots in their articles. (Although it should be noted that they are not the original source of the data, but they do cite their source at https://data.oecd.org/ - this repository has a TON of other interesting datasets.) The specific data you will be looking at is on health care spending and life expectancy in OECD countries. You can find the data files we will use here:\n",
    "\n",
    "* https://github.com/BuzzFeedNews/2017-05-us-health-care/tree/master/data/OECD\n",
    "\n",
    "You will need to download two files from this repository, `health_spending_per_cap.csv` and `life_expect_birth.csv`. The direct links to these files are:\n",
    "* https://raw.githubusercontent.com/BuzzFeedNews/2017-05-us-health-care/master/data/OECD/health_spending_per_cap.csv\n",
    "* https://raw.githubusercontent.com/BuzzFeedNews/2017-05-us-health-care/master/data/OECD/life_expect_birth.csv\n"
   ]
  },
  {
   "cell_type": "markdown",
   "metadata": {
    "pycharm": {
     "name": "#%% md\n"
    }
   },
   "source": [
    "&#9989; **Question 2.1 (1 point)**: **Do this now:** Save these files in the same directory as your notebook so you can load them directly. **Then, in the cell below, put the command or commands you used to download the files. If you did not use a command line tool to download the files, write down a command that *would* have fetched the files.**"
   ]
  },
  {
   "cell_type": "markdown",
   "metadata": {
    "pycharm": {
     "name": "#%% md\n"
    }
   },
   "source": [
    "curl -o \"health_spending\" *copied and pasted link*\n",
    "\n",
    "curl -o \"life_expect_birth\" *copied and pasted link*"
   ]
  },
  {
   "cell_type": "markdown",
   "metadata": {
    "pycharm": {
     "name": "#%% md\n"
    }
   },
   "source": [
    "&#9989; **Question 2.2 (2 points)**: To get started, **read in the `life_expect_birth.csv` dataset** and then display the first 15 rows of the data. You can use **Pandas** for this task or any other Python tool you prefer."
   ]
  },
  {
   "cell_type": "code",
   "execution_count": 4,
   "metadata": {
    "pycharm": {
     "name": "#%%\n"
    }
   },
   "outputs": [
    {
     "data": {
      "text/html": [
       "<div>\n",
       "<style scoped>\n",
       "    .dataframe tbody tr th:only-of-type {\n",
       "        vertical-align: middle;\n",
       "    }\n",
       "\n",
       "    .dataframe tbody tr th {\n",
       "        vertical-align: top;\n",
       "    }\n",
       "\n",
       "    .dataframe thead th {\n",
       "        text-align: right;\n",
       "    }\n",
       "</style>\n",
       "<table border=\"1\" class=\"dataframe\">\n",
       "  <thead>\n",
       "    <tr style=\"text-align: right;\">\n",
       "      <th></th>\n",
       "      <th>LOCATION</th>\n",
       "      <th>INDICATOR</th>\n",
       "      <th>SUBJECT</th>\n",
       "      <th>MEASURE</th>\n",
       "      <th>FREQUENCY</th>\n",
       "      <th>TIME</th>\n",
       "      <th>Value</th>\n",
       "      <th>Flag Codes</th>\n",
       "    </tr>\n",
       "  </thead>\n",
       "  <tbody>\n",
       "    <tr>\n",
       "      <th>0</th>\n",
       "      <td>AUS</td>\n",
       "      <td>LIFEEXP</td>\n",
       "      <td>TOT</td>\n",
       "      <td>YR</td>\n",
       "      <td>A</td>\n",
       "      <td>1960</td>\n",
       "      <td>70.9</td>\n",
       "      <td>NaN</td>\n",
       "    </tr>\n",
       "    <tr>\n",
       "      <th>1</th>\n",
       "      <td>AUS</td>\n",
       "      <td>LIFEEXP</td>\n",
       "      <td>TOT</td>\n",
       "      <td>YR</td>\n",
       "      <td>A</td>\n",
       "      <td>1961</td>\n",
       "      <td>71.2</td>\n",
       "      <td>NaN</td>\n",
       "    </tr>\n",
       "    <tr>\n",
       "      <th>2</th>\n",
       "      <td>AUS</td>\n",
       "      <td>LIFEEXP</td>\n",
       "      <td>TOT</td>\n",
       "      <td>YR</td>\n",
       "      <td>A</td>\n",
       "      <td>1962</td>\n",
       "      <td>71.0</td>\n",
       "      <td>NaN</td>\n",
       "    </tr>\n",
       "    <tr>\n",
       "      <th>3</th>\n",
       "      <td>AUS</td>\n",
       "      <td>LIFEEXP</td>\n",
       "      <td>TOT</td>\n",
       "      <td>YR</td>\n",
       "      <td>A</td>\n",
       "      <td>1963</td>\n",
       "      <td>71.1</td>\n",
       "      <td>NaN</td>\n",
       "    </tr>\n",
       "    <tr>\n",
       "      <th>4</th>\n",
       "      <td>AUS</td>\n",
       "      <td>LIFEEXP</td>\n",
       "      <td>TOT</td>\n",
       "      <td>YR</td>\n",
       "      <td>A</td>\n",
       "      <td>1964</td>\n",
       "      <td>70.7</td>\n",
       "      <td>NaN</td>\n",
       "    </tr>\n",
       "    <tr>\n",
       "      <th>5</th>\n",
       "      <td>AUS</td>\n",
       "      <td>LIFEEXP</td>\n",
       "      <td>TOT</td>\n",
       "      <td>YR</td>\n",
       "      <td>A</td>\n",
       "      <td>1965</td>\n",
       "      <td>71.0</td>\n",
       "      <td>NaN</td>\n",
       "    </tr>\n",
       "    <tr>\n",
       "      <th>6</th>\n",
       "      <td>AUS</td>\n",
       "      <td>LIFEEXP</td>\n",
       "      <td>TOT</td>\n",
       "      <td>YR</td>\n",
       "      <td>A</td>\n",
       "      <td>1966</td>\n",
       "      <td>70.8</td>\n",
       "      <td>NaN</td>\n",
       "    </tr>\n",
       "    <tr>\n",
       "      <th>7</th>\n",
       "      <td>AUS</td>\n",
       "      <td>LIFEEXP</td>\n",
       "      <td>TOT</td>\n",
       "      <td>YR</td>\n",
       "      <td>A</td>\n",
       "      <td>1967</td>\n",
       "      <td>71.2</td>\n",
       "      <td>NaN</td>\n",
       "    </tr>\n",
       "    <tr>\n",
       "      <th>8</th>\n",
       "      <td>AUS</td>\n",
       "      <td>LIFEEXP</td>\n",
       "      <td>TOT</td>\n",
       "      <td>YR</td>\n",
       "      <td>A</td>\n",
       "      <td>1968</td>\n",
       "      <td>70.9</td>\n",
       "      <td>NaN</td>\n",
       "    </tr>\n",
       "    <tr>\n",
       "      <th>9</th>\n",
       "      <td>AUS</td>\n",
       "      <td>LIFEEXP</td>\n",
       "      <td>TOT</td>\n",
       "      <td>YR</td>\n",
       "      <td>A</td>\n",
       "      <td>1969</td>\n",
       "      <td>71.1</td>\n",
       "      <td>NaN</td>\n",
       "    </tr>\n",
       "    <tr>\n",
       "      <th>10</th>\n",
       "      <td>AUS</td>\n",
       "      <td>LIFEEXP</td>\n",
       "      <td>TOT</td>\n",
       "      <td>YR</td>\n",
       "      <td>A</td>\n",
       "      <td>1970</td>\n",
       "      <td>70.8</td>\n",
       "      <td>NaN</td>\n",
       "    </tr>\n",
       "    <tr>\n",
       "      <th>11</th>\n",
       "      <td>AUS</td>\n",
       "      <td>LIFEEXP</td>\n",
       "      <td>TOT</td>\n",
       "      <td>YR</td>\n",
       "      <td>A</td>\n",
       "      <td>1971</td>\n",
       "      <td>71.6</td>\n",
       "      <td>NaN</td>\n",
       "    </tr>\n",
       "    <tr>\n",
       "      <th>12</th>\n",
       "      <td>AUS</td>\n",
       "      <td>LIFEEXP</td>\n",
       "      <td>TOT</td>\n",
       "      <td>YR</td>\n",
       "      <td>A</td>\n",
       "      <td>1972</td>\n",
       "      <td>72.0</td>\n",
       "      <td>NaN</td>\n",
       "    </tr>\n",
       "    <tr>\n",
       "      <th>13</th>\n",
       "      <td>AUS</td>\n",
       "      <td>LIFEEXP</td>\n",
       "      <td>TOT</td>\n",
       "      <td>YR</td>\n",
       "      <td>A</td>\n",
       "      <td>1973</td>\n",
       "      <td>72.1</td>\n",
       "      <td>NaN</td>\n",
       "    </tr>\n",
       "    <tr>\n",
       "      <th>14</th>\n",
       "      <td>AUS</td>\n",
       "      <td>LIFEEXP</td>\n",
       "      <td>TOT</td>\n",
       "      <td>YR</td>\n",
       "      <td>A</td>\n",
       "      <td>1974</td>\n",
       "      <td>71.9</td>\n",
       "      <td>NaN</td>\n",
       "    </tr>\n",
       "  </tbody>\n",
       "</table>\n",
       "</div>"
      ],
      "text/plain": [
       "   LOCATION INDICATOR SUBJECT MEASURE FREQUENCY  TIME  Value Flag Codes\n",
       "0       AUS   LIFEEXP     TOT      YR         A  1960   70.9        NaN\n",
       "1       AUS   LIFEEXP     TOT      YR         A  1961   71.2        NaN\n",
       "2       AUS   LIFEEXP     TOT      YR         A  1962   71.0        NaN\n",
       "3       AUS   LIFEEXP     TOT      YR         A  1963   71.1        NaN\n",
       "4       AUS   LIFEEXP     TOT      YR         A  1964   70.7        NaN\n",
       "5       AUS   LIFEEXP     TOT      YR         A  1965   71.0        NaN\n",
       "6       AUS   LIFEEXP     TOT      YR         A  1966   70.8        NaN\n",
       "7       AUS   LIFEEXP     TOT      YR         A  1967   71.2        NaN\n",
       "8       AUS   LIFEEXP     TOT      YR         A  1968   70.9        NaN\n",
       "9       AUS   LIFEEXP     TOT      YR         A  1969   71.1        NaN\n",
       "10      AUS   LIFEEXP     TOT      YR         A  1970   70.8        NaN\n",
       "11      AUS   LIFEEXP     TOT      YR         A  1971   71.6        NaN\n",
       "12      AUS   LIFEEXP     TOT      YR         A  1972   72.0        NaN\n",
       "13      AUS   LIFEEXP     TOT      YR         A  1973   72.1        NaN\n",
       "14      AUS   LIFEEXP     TOT      YR         A  1974   71.9        NaN"
      ]
     },
     "execution_count": 4,
     "metadata": {},
     "output_type": "execute_result"
    }
   ],
   "source": [
    "import pandas as pd\n",
    "life_expect = pd.read_csv(\"life_expect_birth\")\n",
    "life_expect.head(15)"
   ]
  },
  {
   "cell_type": "markdown",
   "metadata": {
    "pycharm": {
     "name": "#%% md\n"
    }
   },
   "source": [
    "&#9989; **Question 2.3 (4 points)**: The dataset should containe a column called `LOCATION` which contains three-letter country codes, such as `AUS`, `AUT`, ... You will now select all rows for the United States (country code `USA`) and create a plot of life expectancy (`Value`) vs. year.\n",
    "\n",
    "**Do this**: select all rows where with country code (`LOCATION`) is `USA` and create a plot of life expectancy (`Value`) [y-axis] vs. year of birth [x-axis]. Make sure to label your axes."
   ]
  },
  {
   "cell_type": "code",
   "execution_count": 10,
   "metadata": {
    "pycharm": {
     "name": "#%%\n"
    }
   },
   "outputs": [
    {
     "data": {
      "text/plain": [
       "Text(0.5, 1.0, 'Life Expectancy in the USA over time')"
      ]
     },
     "execution_count": 10,
     "metadata": {},
     "output_type": "execute_result"
    },
    {
     "data": {
      "image/png": "[encoded data removed]",
      "text/plain": [
       "<Figure size 432x288 with 1 Axes>"
      ]
     },
     "metadata": {
      "needs_background": "light"
     },
     "output_type": "display_data"
    }
   ],
   "source": [
    "import matplotlib.pyplot as plt\n",
    "usa = life_expect[life_expect['LOCATION'] == \"USA\"]\n",
    "plt.scatter(usa['TIME'], usa['Value'])\n",
    "plt.xlabel('Years')\n",
    "plt.ylabel('Life Expectancy')\n",
    "plt.title('Life Expectancy in the USA over time')"
   ]
  },
  {
   "cell_type": "markdown",
   "metadata": {
    "pycharm": {
     "name": "#%% md\n"
    }
   },
   "source": [
    "&#9989; **Question 2.4 (2 points)**: Now we compared this against another country. You can choose any country you like, but if you feel uninspired, just use Canada (`CAN`).\n",
    "\n",
    "**Do this**: Create a plot that shows the life expectancy vs. year of birth just as in Q2.2, but this time plot the curves for both the `USA` and another country of your choice (e.g. Canada / `CAN`). Make sure your axes are labeled."
   ]
  },
  {
   "cell_type": "code",
   "execution_count": 14,
   "metadata": {
    "pycharm": {
     "name": "#%%\n"
    }
   },
   "outputs": [
    {
     "data": {
      "text/plain": [
       "<matplotlib.legend.Legend at 0x7fab4e94d430>"
      ]
     },
     "execution_count": 14,
     "metadata": {},
     "output_type": "execute_result"
    },
    {
     "data": {
      "image/png": "[encoded data removed]",
      "text/plain": [
       "<Figure size 432x288 with 1 Axes>"
      ]
     },
     "metadata": {
      "needs_background": "light"
     },
     "output_type": "display_data"
    }
   ],
   "source": [
    "canada = life_expect[life_expect['LOCATION']==\"CAN\"]\n",
    "plt.scatter(canada['TIME'], canada['Value'], color = \"purple\", label = \"Canada\")\n",
    "plt.scatter(usa['TIME'], usa['Value'], color = 'green', label = \"usa\")\n",
    "plt.xlabel('Years')\n",
    "plt.ylabel('Life Expectancy')\n",
    "plt.title('Life Expectancy in USA vs Canada')\n",
    "plt.legend()"
   ]
  },
  {
   "cell_type": "markdown",
   "metadata": {
    "pycharm": {
     "name": "#%% md\n"
    }
   },
   "source": [
    "&#9989; **Question 2.5 (2 points)**: Finally, we want to see how health care spending per capita differs between the two countries.\n",
    "\n",
    "**Do this**: Create code that loads the *other* dataset `health_spending_per_cap.csv`. It contains data on the health spending per capita in many countries and for a large range of years. The health spending per capita is stored in US dollars. **Evaluate the csv file and write code that loads data, selects the necesary rows for your two chosen countries (`USA` and whatever you chose before in Q2.3) and create a plot that shows the year on the x-axis and the spending on the y-axis.** The lines for both countries should appear in the same plot and the x- and y-axes should be labeled."
   ]
  },
  {
   "cell_type": "code",
   "execution_count": 18,
   "metadata": {},
   "outputs": [
    {
     "data": {
      "text/html": [
       "<div>\n",
       "<style scoped>\n",
       "    .dataframe tbody tr th:only-of-type {\n",
       "        vertical-align: middle;\n",
       "    }\n",
       "\n",
       "    .dataframe tbody tr th {\n",
       "        vertical-align: top;\n",
       "    }\n",
       "\n",
       "    .dataframe thead th {\n",
       "        text-align: right;\n",
       "    }\n",
       "</style>\n",
       "<table border=\"1\" class=\"dataframe\">\n",
       "  <thead>\n",
       "    <tr style=\"text-align: right;\">\n",
       "      <th></th>\n",
       "      <th>LOCATION</th>\n",
       "      <th>INDICATOR</th>\n",
       "      <th>SUBJECT</th>\n",
       "      <th>MEASURE</th>\n",
       "      <th>FREQUENCY</th>\n",
       "      <th>TIME</th>\n",
       "      <th>Value</th>\n",
       "      <th>Flag Codes</th>\n",
       "    </tr>\n",
       "  </thead>\n",
       "  <tbody>\n",
       "    <tr>\n",
       "      <th>0</th>\n",
       "      <td>AUS</td>\n",
       "      <td>HEALTHEXP</td>\n",
       "      <td>TOT</td>\n",
       "      <td>USD_CAP</td>\n",
       "      <td>A</td>\n",
       "      <td>1971</td>\n",
       "      <td>223.5920</td>\n",
       "      <td>NaN</td>\n",
       "    </tr>\n",
       "    <tr>\n",
       "      <th>1</th>\n",
       "      <td>AUS</td>\n",
       "      <td>HEALTHEXP</td>\n",
       "      <td>TOT</td>\n",
       "      <td>USD_CAP</td>\n",
       "      <td>A</td>\n",
       "      <td>1972</td>\n",
       "      <td>239.1784</td>\n",
       "      <td>NaN</td>\n",
       "    </tr>\n",
       "    <tr>\n",
       "      <th>2</th>\n",
       "      <td>AUS</td>\n",
       "      <td>HEALTHEXP</td>\n",
       "      <td>TOT</td>\n",
       "      <td>USD_CAP</td>\n",
       "      <td>A</td>\n",
       "      <td>1973</td>\n",
       "      <td>264.0303</td>\n",
       "      <td>NaN</td>\n",
       "    </tr>\n",
       "    <tr>\n",
       "      <th>3</th>\n",
       "      <td>AUS</td>\n",
       "      <td>HEALTHEXP</td>\n",
       "      <td>TOT</td>\n",
       "      <td>USD_CAP</td>\n",
       "      <td>A</td>\n",
       "      <td>1974</td>\n",
       "      <td>322.3286</td>\n",
       "      <td>NaN</td>\n",
       "    </tr>\n",
       "    <tr>\n",
       "      <th>4</th>\n",
       "      <td>AUS</td>\n",
       "      <td>HEALTHEXP</td>\n",
       "      <td>TOT</td>\n",
       "      <td>USD_CAP</td>\n",
       "      <td>A</td>\n",
       "      <td>1975</td>\n",
       "      <td>401.8512</td>\n",
       "      <td>NaN</td>\n",
       "    </tr>\n",
       "    <tr>\n",
       "      <th>...</th>\n",
       "      <td>...</td>\n",
       "      <td>...</td>\n",
       "      <td>...</td>\n",
       "      <td>...</td>\n",
       "      <td>...</td>\n",
       "      <td>...</td>\n",
       "      <td>...</td>\n",
       "      <td>...</td>\n",
       "    </tr>\n",
       "    <tr>\n",
       "      <th>1299</th>\n",
       "      <td>LVA</td>\n",
       "      <td>HEALTHEXP</td>\n",
       "      <td>TOT</td>\n",
       "      <td>USD_CAP</td>\n",
       "      <td>A</td>\n",
       "      <td>2011</td>\n",
       "      <td>1086.9471</td>\n",
       "      <td>NaN</td>\n",
       "    </tr>\n",
       "    <tr>\n",
       "      <th>1300</th>\n",
       "      <td>LVA</td>\n",
       "      <td>HEALTHEXP</td>\n",
       "      <td>TOT</td>\n",
       "      <td>USD_CAP</td>\n",
       "      <td>A</td>\n",
       "      <td>2012</td>\n",
       "      <td>1148.7918</td>\n",
       "      <td>NaN</td>\n",
       "    </tr>\n",
       "    <tr>\n",
       "      <th>1301</th>\n",
       "      <td>LVA</td>\n",
       "      <td>HEALTHEXP</td>\n",
       "      <td>TOT</td>\n",
       "      <td>USD_CAP</td>\n",
       "      <td>A</td>\n",
       "      <td>2013</td>\n",
       "      <td>1219.4164</td>\n",
       "      <td>NaN</td>\n",
       "    </tr>\n",
       "    <tr>\n",
       "      <th>1302</th>\n",
       "      <td>LVA</td>\n",
       "      <td>HEALTHEXP</td>\n",
       "      <td>TOT</td>\n",
       "      <td>USD_CAP</td>\n",
       "      <td>A</td>\n",
       "      <td>2014</td>\n",
       "      <td>1295.0128</td>\n",
       "      <td>NaN</td>\n",
       "    </tr>\n",
       "    <tr>\n",
       "      <th>1303</th>\n",
       "      <td>LVA</td>\n",
       "      <td>HEALTHEXP</td>\n",
       "      <td>TOT</td>\n",
       "      <td>USD_CAP</td>\n",
       "      <td>A</td>\n",
       "      <td>2015</td>\n",
       "      <td>1369.9330</td>\n",
       "      <td>E</td>\n",
       "    </tr>\n",
       "  </tbody>\n",
       "</table>\n",
       "<p>1304 rows × 8 columns</p>\n",
       "</div>"
      ],
      "text/plain": [
       "     LOCATION  INDICATOR SUBJECT  MEASURE FREQUENCY  TIME      Value  \\\n",
       "0         AUS  HEALTHEXP     TOT  USD_CAP         A  1971   223.5920   \n",
       "1         AUS  HEALTHEXP     TOT  USD_CAP         A  1972   239.1784   \n",
       "2         AUS  HEALTHEXP     TOT  USD_CAP         A  1973   264.0303   \n",
       "3         AUS  HEALTHEXP     TOT  USD_CAP         A  1974   322.3286   \n",
       "4         AUS  HEALTHEXP     TOT  USD_CAP         A  1975   401.8512   \n",
       "...       ...        ...     ...      ...       ...   ...        ...   \n",
       "1299      LVA  HEALTHEXP     TOT  USD_CAP         A  2011  1086.9471   \n",
       "1300      LVA  HEALTHEXP     TOT  USD_CAP         A  2012  1148.7918   \n",
       "1301      LVA  HEALTHEXP     TOT  USD_CAP         A  2013  1219.4164   \n",
       "1302      LVA  HEALTHEXP     TOT  USD_CAP         A  2014  1295.0128   \n",
       "1303      LVA  HEALTHEXP     TOT  USD_CAP         A  2015  1369.9330   \n",
       "\n",
       "     Flag Codes  \n",
       "0           NaN  \n",
       "1           NaN  \n",
       "2           NaN  \n",
       "3           NaN  \n",
       "4           NaN  \n",
       "...         ...  \n",
       "1299        NaN  \n",
       "1300        NaN  \n",
       "1301        NaN  \n",
       "1302        NaN  \n",
       "1303          E  \n",
       "\n",
       "[1304 rows x 8 columns]"
      ]
     },
     "execution_count": 18,
     "metadata": {},
     "output_type": "execute_result"
    }
   ],
   "source": [
    "health_spending"
   ]
  },
  {
   "cell_type": "code",
   "execution_count": 20,
   "metadata": {
    "pycharm": {
     "name": "#%%\n"
    }
   },
   "outputs": [
    {
     "data": {
      "text/plain": [
       "<matplotlib.legend.Legend at 0x7fab4e803b50>"
      ]
     },
     "execution_count": 20,
     "metadata": {},
     "output_type": "execute_result"
    },
    {
     "data": {
      "image/png": "[encoded data removed]",
      "text/plain": [
       "<Figure size 432x288 with 1 Axes>"
      ]
     },
     "metadata": {
      "needs_background": "light"
     },
     "output_type": "display_data"
    }
   ],
   "source": [
    "health_spending = pd.read_csv('health_spending')\n",
    "usa_money = health_spending[health_spending['LOCATION']==\"USA\"]\n",
    "can_money = health_spending[health_spending['LOCATION']== \"CAN\"]\n",
    "\n",
    "plt.plot(usa_money['TIME'], usa_money['Value'], color = 'pink', label = \"USA\")\n",
    "plt.plot(can_money['TIME'], can_money['Value'], color = 'orange', label = \"CAN\")\n",
    "plt.xlabel('Time')\n",
    "plt.ylabel('Health Spending')\n",
    "plt.title(\"Health Spending in USA vs CAN over time\")\n",
    "plt.legend()"
   ]
  },
  {
   "cell_type": "markdown",
   "metadata": {
    "pycharm": {
     "name": "#%% md\n"
    }
   },
   "source": [
    "&#9989; **Question 2.6 (1 point)**: The BuzzFeed article linked above uses a different way to visualize this data.\n",
    "\n",
    "<img src=\"https://i.ibb.co/9b85Tzm/Visualization.png\" alt=\"Visualization\" border=\"0\">\n",
    "\n",
    "**Do this: explain in a few sentences how you would go about creating a plot like theirs using the datasets you already loaded.** You are not required to re-create the plot, but you should describe what you would do in order to create it in a few sentences. If you can think of any issues that might occur when you create this version of the plot, point them out."
   ]
  },
  {
   "cell_type": "markdown",
   "metadata": {
    "pycharm": {
     "name": "#%% md\n"
    }
   },
   "source": [
    "<font size=+3>&#9998;</font> Do This - Erase the contents of this cell an put your answer here."
   ]
  },
  {
   "cell_type": "markdown",
   "metadata": {
    "pycharm": {
     "name": "#%% md\n"
    }
   },
   "source": [
    "---\n",
    "### &#128721; STOP\n",
    "**Pause to commit your changes to your Git repository!**\n",
    "\n",
    "Take a moment to save your notebook, commit the changes to your Git repository using the commit message \"**Committing Part 2**\", and push the changes to GitHub.\n",
    "\n",
    "---"
   ]
  },
  {
   "cell_type": "markdown",
   "metadata": {
    "pycharm": {
     "name": "#%% md\n"
    }
   },
   "source": [
    "---\n",
    "## Part 3: Working with a new Python package (8 points)"
   ]
  },
  {
   "cell_type": "markdown",
   "metadata": {
    "pycharm": {
     "name": "#%% md\n"
    }
   },
   "source": [
    "You might have noticed that the dataset you used in Part 2 used 3-letter codes to encode countries. For some countries, these are obvious (e.g. `USA`), but for others, they might be more obscure (e.g. the code for \"Germany\" is not `GER` but `DEU`). In this part, we will be using a Python package you probably have not used before to make sure we can interpret these country codes and to find codes for certain countries. The package is called `pycountry` and its source code can be found here: [https://github.com/flyingcircusio/pycountry](https://github.com/flyingcircusio/pycountry) . It is also available from PyPi at [https://pypi.org/project/pycountry/](https://pypi.org/project/pycountry/) ."
   ]
  },
  {
   "cell_type": "markdown",
   "metadata": {
    "pycharm": {
     "name": "#%% md\n"
    }
   },
   "source": [
    "&#9989; **Question 3.1 [2 points]**: Unfortunately, `pycountry` is not already included with Anaconda. However, you should be able to install the package in the same way we have used previously to install Python packages.\n",
    "\n",
    "**Do this: Install the `pycountry` Python package.**\n",
    "\n",
    "What command did you use to install `pycountry`? **Include this command in the Markdown cell below.**"
   ]
  },
  {
   "cell_type": "markdown",
   "metadata": {
    "pycharm": {
     "name": "#%% md\n"
    }
   },
   "source": [
    "``` bash\n",
    "# Put the command for installing `pycountry` here!\n",
    "\n",
    "```"
   ]
  },
  {
   "cell_type": "markdown",
   "metadata": {
    "pycharm": {
     "name": "#%% md\n"
    }
   },
   "source": [
    "Once `pycountry` is installed, running the following cell should not result in an error message. You might need to re-start your Jupyter kernel after installing the package for this to work. (Once everything works, it should give you no output at all.)"
   ]
  },
  {
   "cell_type": "code",
   "execution_count": null,
   "metadata": {
    "pycharm": {
     "name": "#%%\n"
    }
   },
   "outputs": [],
   "source": [
    "# Running this cell should just work and not yield any output if `pycountry` is installed and available\n",
    "import pycountry"
   ]
  },
  {
   "cell_type": "markdown",
   "metadata": {
    "pycharm": {
     "name": "#%% md\n"
    }
   },
   "source": [
    "&#9989; **Question 3.2 [2 points]**: **Looking at the `pycountry` documentation, find a way to determine how many (current, non-historic) countries the package is aware of in total. Then write code to display the number of countries.** "
   ]
  },
  {
   "cell_type": "code",
   "execution_count": null,
   "metadata": {
    "pycharm": {
     "name": "#%%\n"
    }
   },
   "outputs": [],
   "source": [
    "### Put your code here"
   ]
  },
  {
   "cell_type": "markdown",
   "metadata": {
    "pycharm": {
     "name": "#%% md\n"
    }
   },
   "source": [
    "&#9989; **Question 3.3 [2 points]**: **Write code that performs a \"fuzzy\" search for a country called \"England\" and store its entry (a Python object!) in a variable called `UK`.** (You might want to look at the package documentation page to find out how to perform a \"fuzzy search\" for country names. This search will always return a list of objects, so you want to make sure to use the only entry in the list returned, not the list itself.)"
   ]
  },
  {
   "cell_type": "code",
   "execution_count": null,
   "metadata": {
    "pycharm": {
     "name": "#%%\n"
    }
   },
   "outputs": [],
   "source": [
    "### Put your code here"
   ]
  },
  {
   "cell_type": "markdown",
   "metadata": {
    "pycharm": {
     "name": "#%% md\n"
    }
   },
   "source": [
    "The following cell will print the proper country name (\"United Kingdom\") if your above code works correctly and stored the country object in the variable `UK`."
   ]
  },
  {
   "cell_type": "code",
   "execution_count": null,
   "metadata": {
    "pycharm": {
     "name": "#%%\n"
    }
   },
   "outputs": [],
   "source": [
    "print(\"The country name is \\\"{}\\\"\".format(UK.name))"
   ]
  },
  {
   "cell_type": "markdown",
   "metadata": {
    "pycharm": {
     "name": "#%% md\n"
    }
   },
   "source": [
    "&#9989; **Question 3.4 [2 points]**: The `UK` object you just created includes an attribute with the \"offical name\" of the country. For some countries, this can be different from their \"commonly\" used name. **Use Python tools/commands for inspecting objects to find what the name of this attribute could be and print it.** (If you were not able to complete question 3.3, you can create the `UK` object with this line: `UK = pycountry.countries.get(alpha_2=\"GB\")`. Note that this is NOT the answer to question 3.3 but will return the same result.)\n",
    "\n",
    "For full points, you need to both write code that prints the \"official name\" of the country *and* show the command(s) that you used to find the attribute name."
   ]
  },
  {
   "cell_type": "code",
   "execution_count": null,
   "metadata": {
    "pycharm": {
     "name": "#%%\n"
    }
   },
   "outputs": [],
   "source": [
    "### Put your code here"
   ]
  },
  {
   "cell_type": "markdown",
   "metadata": {
    "pycharm": {
     "name": "#%% md\n"
    }
   },
   "source": [
    "---\n",
    "### &#128721; STOP\n",
    "**Pause to commit your changes to your Git repository!**\n",
    "\n",
    "Take a moment to save your notebook, commit the changes to your Git repository using the commit message \"**Committing Part 3**\", and push the changes to GitHub.\n",
    "\n",
    "---"
   ]
  },
  {
   "cell_type": "markdown",
   "metadata": {
    "pycharm": {
     "name": "#%% md\n"
    }
   },
   "source": [
    "---\n",
    "## Part 4: Writing and using Python classes (9 points)"
   ]
  },
  {
   "cell_type": "code",
   "execution_count": null,
   "metadata": {
    "pycharm": {
     "name": "#%%\n"
    }
   },
   "outputs": [],
   "source": [
    "# The Country class. You'll need to edit/expand on this.\n",
    "class Country:\n",
    "    def __init__(self, name):\n",
    "        self.name = name\n",
    "\n",
    "    def print_name(self):\n",
    "        print('The country name is {0}'.format(self.name))\n"
   ]
  },
  {
   "cell_type": "code",
   "execution_count": null,
   "metadata": {
    "pycharm": {
     "name": "#%%\n"
    }
   },
   "outputs": [],
   "source": [
    "c = Country(\"USA\")\n",
    "c.print_name()"
   ]
  },
  {
   "cell_type": "markdown",
   "metadata": {
    "pycharm": {
     "name": "#%% md\n"
    }
   },
   "source": [
    "&#9989; **Question 4.1 [3 points]**: **Do this: extend the `Country` class as described below and put the new version of this class in the code cell below.**\n",
    "\n",
    "* Add a new attribute, `is_historic`, to the class so that it is set to a default of `False` when the class object is first initialized. This attribute will be used to represent historic countries that do not exist anymore. By default any country that is created will be treated as non-historic.\n",
    "* Add a new class method, `make_historic`, that takes **no additional inputs** (except to what all class methods should take)\n",
    "  * The only thing this method should do is to set the `is_historic` attribute to `True`\n",
    "  * This function is not expected to return a value\n",
    "* Add another new class method, `get_is_historic()` that also does not take any additional inputs, except the usual\n",
    "  * This method should return the current value of the `is_historic` attribute"
   ]
  },
  {
   "cell_type": "code",
   "execution_count": null,
   "metadata": {
    "pycharm": {
     "name": "#%%\n"
    }
   },
   "outputs": [],
   "source": [
    "### Put your code here\n"
   ]
  },
  {
   "cell_type": "code",
   "execution_count": null,
   "metadata": {
    "pycharm": {
     "name": "#%%\n"
    }
   },
   "outputs": [],
   "source": [
    "# This cell should now initialize a `Country` (for the fictional historic country\n",
    "# of \"Osparia\") and print its name. You do not have to change this code, but once\n",
    "# your class is finalized, the output should be:\n",
    "# ```\n",
    "#       This country name is Osparia\n",
    "#        -> The country is historic\n",
    "# ```\n",
    "\n",
    "my_country = Country(\"Osparia\")\n",
    "my_country.make_historic()\n",
    "my_country.print_name()\n",
    "if my_country.get_is_historic():\n",
    "    print(\" -> The country is historic\")"
   ]
  },
  {
   "cell_type": "markdown",
   "metadata": {
    "pycharm": {
     "name": "#%% md\n"
    }
   },
   "source": [
    "&#9989; **Question 4.2 [6 points]**: Now that you have a functioning class, your next task is to create a second class, `EnhancedCountry`, that **inherits** the `Country` class. \n",
    "\n",
    "**Do this: Create a second class called `EnhancedCountry` that *inherits* the `Country` class and then adds new functionality as described below. Put this new class in the code cell below.** (This extension is mostly independent of the extension in Q4.1, so if you did not manage to get that done, you can still get credit for this part by using the initial version of the `Country` class as the base.)\n",
    "\n",
    "In this new `EnhancedCountry` class, do the following:\n",
    "\n",
    "* Add another new attribute, `subdivisions`, to the class such that the attribute is initialized to be an empty dictionary (`{}`) when the class object is first created. This dictionary will serve as a place to store country subdivisions, such as \"states\" in the United States. Other countries might have other types of subdivisions, such as Canada, which has \"provinces\".\n",
    "  * When adding the new attribute, make sure all other attributes inherited from `Country` are also still initialized.\n",
    "* Add a new class method, `add_subdivision`, that takes **two inputs**: \n",
    "    - `name` (the name of the subdivision, such as \"Michigan\")\n",
    "    - `type` (the type of the subdivision, such as \"state\")\n",
    "  <br> Using these two inputs, **this method should**: Update the `subdivisions` dictionary attribute to include the new `name` as a dictionary key and the `type` as the value associated with that key.\n",
    "* Add one final new method, `print_subdivisions`, that takes no input and prints a list of all subdivisions and their types, sorted alphabetically by subdivison name. (Partial credit if they are unsorted.)\n"
   ]
  },
  {
   "cell_type": "code",
   "execution_count": null,
   "metadata": {
    "pycharm": {
     "name": "#%%\n"
    }
   },
   "outputs": [],
   "source": [
    "### Put your code here\n"
   ]
  },
  {
   "cell_type": "code",
   "execution_count": null,
   "metadata": {
    "pycharm": {
     "name": "#%%\n"
    }
   },
   "outputs": [],
   "source": [
    "# This cell should now initialize an `EnhancedCountry` (for the fictional country\n",
    "# of \"Osparia\" which consists of provinces and territories), add subdivisions and\n",
    "# finally print them. You do not have to change this code, but once your class is\n",
    "# finalized, the code in here should print a list of country subdivisions and their types.\n",
    "\n",
    "my_country = EnhancedCountry(\"United Provinces of Osparia\")\n",
    "my_country.add_subdivision(\"East Neana\", \"province\")\n",
    "my_country.add_subdivision(\"Pennxico\", \"territory\")\n",
    "my_country.add_subdivision(\"West Wyoshire\", \"province\")\n",
    "my_country.add_subdivision(\"South Geoiana\", \"province\")\n",
    "my_country.add_subdivision(\"Oreginia\", \"territory\")\n",
    "my_country.add_subdivision(\"Marybama\", \"province\")\n",
    "my_country.add_subdivision(\"New Flovada\", \"province\")\n",
    "my_country.add_subdivision(\"Illibraska\", \"province\")\n",
    "\n",
    "my_country.print_subdivisions()\n"
   ]
  },
  {
   "cell_type": "markdown",
   "metadata": {
    "pycharm": {
     "name": "#%% md\n"
    }
   },
   "source": [
    "---\n",
    "### &#128721; STOP\n",
    "**Pause to commit your changes to your Git repository!**\n",
    "\n",
    "Take a moment to save your notebook, commit the changes to your Git repository using the commit message \"**Committing Part 4**\", and push the changes to GitHub.\n",
    "\n",
    "---"
   ]
  },
  {
   "cell_type": "markdown",
   "metadata": {
    "pycharm": {
     "name": "#%% md\n"
    }
   },
   "source": [
    "## You're done! Congrats on finishing your CMSE 202 Midterm!\n",
    "\n",
    "Make sure all of your changes to your repository are committed and pushed to GitHub. Also upload a copy of this notebook to the dropbox on D2L in case something went wrong with your repository or if you couldn't get the repository to work."
   ]
  }
 ],
 "metadata": {
  "interpreter": {
   "hash": "aee8b7b246df8f9039afb4144a1f6fd8d2ca17a180786b69acc140d282b71a49"
  },
  "kernelspec": {
   "display_name": "Python 3",
   "language": "python",
   "name": "python3"
  },
  "language_info": {
   "codemirror_mode": {
    "name": "ipython",
    "version": 3
   },
   "file_extension": ".py",
   "mimetype": "text/x-python",
   "name": "python",
   "nbconvert_exporter": "python",
   "pygments_lexer": "ipython3",
   "version": "3.8.8"
  }
 },
 "nbformat": 4,
 "nbformat_minor": 4
}
